{
 "cells":[
  {
   "cell_type":"markdown",
   "source":[
    "# Data Collection & Preparation"
   ],
   "attachments":{
    
   },
   "metadata":{
    "datalore":{
     "node_id":"Data Collection & Preparation",
     "type":"MD",
     "hide_input_from_viewers":false,
     "hide_output_from_viewers":false,
     "sheet_delimiter":true
    }
   }
  },
  {
   "cell_type":"markdown",
   "source":[
    "## Author: Joe Muscolino\n",
    "Last updated: 03-17-2024"
   ],
   "attachments":{
    
   },
   "metadata":{
    "datalore":{
     "node_id":"85s8fsBZyOibqkHFAijhAF",
     "type":"MD",
     "hide_input_from_viewers":true,
     "hide_output_from_viewers":true
    }
   }
  },
  {
   "cell_type":"code",
   "source":[
    "# Import libraries\n",
    "import pandas as pd\n",
    "import numpy as np\n",
    "from datetime import datetime\n",
    "import matplotlib.pyplot as plt\n",
    "import locale\n",
    "import scipy\n",
    "import seaborn as sns\n",
    "import statsmodels.api as sm\n",
    "from statsmodels.formula.api import ols\n",
    "from scipy.stats import norm\n",
    "from scipy import stats"
   ],
   "execution_count":1,
   "outputs":[
    
   ],
   "metadata":{
    "datalore":{
     "node_id":"SdhcQ0vHKLG5TdlrRl8MHV",
     "type":"CODE",
     "hide_input_from_viewers":true,
     "hide_output_from_viewers":true
    }
   }
  },
  {
   "cell_type":"markdown",
   "source":[
    "## 1. Data Collection and Wrangling"
   ],
   "attachments":{
    
   },
   "metadata":{
    "datalore":{
     "node_id":"8XKgSsGZBhNFvwvY37MPOm",
     "type":"MD",
     "hide_input_from_viewers":false,
     "hide_output_from_viewers":false,
     "report_properties":{
      "rowId":"4aXRpdWdBYL971nXk78ewq",
      "relativeY":0
     }
    }
   }
  },
  {
   "cell_type":"code",
   "source":[
    "# Open CSV file\n",
    "reservations_df = pd.read_csv(\"ReservationsData-Dec2023.csv\", dtype=\"string\")\n",
    "\n",
    "# View dataset shape (rows, columns)\n",
    "reservations_df.shape"
   ],
   "execution_count":2,
   "outputs":[
    {
     "data":{
      "text\/plain":[
       "(143273, 26)"
      ]
     },
     "metadata":{
      
     },
     "output_type":"display_data"
    }
   ],
   "metadata":{
    "datalore":{
     "node_id":"pTZtaDXaV6yiphs5hFdUso",
     "type":"CODE",
     "hide_input_from_viewers":false,
     "hide_output_from_viewers":false,
     "report_properties":{
      "rowId":"zgCmJZ8lAac0KmxxvEUqbV",
      "relativeY":0
     }
    }
   }
  },
  {
   "cell_type":"markdown",
   "source":[
    "### Our dataset contains 143,273 customer rental records."
   ],
   "attachments":{
    
   },
   "metadata":{
    "datalore":{
     "node_id":"OLJxLgo0D3u73DVACKi8Hn",
     "type":"MD",
     "hide_input_from_viewers":true,
     "hide_output_from_viewers":true
    }
   }
  },
  {
   "cell_type":"code",
   "source":[
    "# View first 5 rows of DataFrame\n",
    "reservations_df.head()"
   ],
   "execution_count":3,
   "outputs":[
    {
     "data":{
      "text\/html":[
       "<div>\n",
       "<style scoped>\n",
       "    .dataframe tbody tr th:only-of-type {\n",
       "        vertical-align: middle;\n",
       "    }\n",
       "\n",
       "    .dataframe tbody tr th {\n",
       "        vertical-align: top;\n",
       "    }\n",
       "\n",
       "    .dataframe thead th {\n",
       "        text-align: right;\n",
       "    }\n",
       "<\/style>\n",
       "<table border=\"1\" class=\"dataframe\">\n",
       "  <thead>\n",
       "    <tr style=\"text-align: right;\">\n",
       "      <th><\/th>\n",
       "      <th>Reservation Created Date<\/th>\n",
       "      <th>Pickup Date<\/th>\n",
       "      <th>Dropoff Date<\/th>\n",
       "      <th>Current State<\/th>\n",
       "      <th>Airport Code<\/th>\n",
       "      <th>Fleet Type<\/th>\n",
       "      <th>Local Rental<\/th>\n",
       "      <th>Reservation ID<\/th>\n",
       "      <th>User Created Date<\/th>\n",
       "      <th>mostRecentCreditCardCity<\/th>\n",
       "      <th>...<\/th>\n",
       "      <th>Cancelled At Time<\/th>\n",
       "      <th>Reservation Created Time<\/th>\n",
       "      <th>Rebook Status<\/th>\n",
       "      <th>Last Completed Reservation Date<\/th>\n",
       "      <th>First Completed Reservation Date<\/th>\n",
       "      <th>First Booked Reservation Actual Pickup Time<\/th>\n",
       "      <th>Lifetime Driving Days<\/th>\n",
       "      <th>userID<\/th>\n",
       "      <th>Sales Revenue<\/th>\n",
       "      <th>booked_with_code<\/th>\n",
       "    <\/tr>\n",
       "  <\/thead>\n",
       "  <tbody>\n",
       "    <tr>\n",
       "      <th>0<\/th>\n",
       "      <td>7\/18\/23<\/td>\n",
       "      <td>7\/27\/23<\/td>\n",
       "      <td>8\/3\/23<\/td>\n",
       "      <td>finished<\/td>\n",
       "      <td>Store 1<\/td>\n",
       "      <td>Sport Sedan<\/td>\n",
       "      <td>No<\/td>\n",
       "      <td>1242522<\/td>\n",
       "      <td>7\/15\/23<\/td>\n",
       "      <td>Hillsborough<\/td>\n",
       "      <td>...<\/td>\n",
       "      <td>&lt;NA&gt;<\/td>\n",
       "      <td>7\/18\/23 14:00<\/td>\n",
       "      <td>unique<\/td>\n",
       "      <td>7\/27\/23<\/td>\n",
       "      <td>7\/27\/23<\/td>\n",
       "      <td>7\/27\/23<\/td>\n",
       "      <td>7<\/td>\n",
       "      <td>96104966<\/td>\n",
       "      <td>438.25<\/td>\n",
       "      <td>1<\/td>\n",
       "    <\/tr>\n",
       "    <tr>\n",
       "      <th>1<\/th>\n",
       "      <td>2\/16\/23<\/td>\n",
       "      <td>8\/4\/23<\/td>\n",
       "      <td>8\/14\/23<\/td>\n",
       "      <td>started<\/td>\n",
       "      <td>Store 2<\/td>\n",
       "      <td>Premium SUV<\/td>\n",
       "      <td>Yes<\/td>\n",
       "      <td>1219503<\/td>\n",
       "      <td>5\/6\/20<\/td>\n",
       "      <td>New York<\/td>\n",
       "      <td>...<\/td>\n",
       "      <td>&lt;NA&gt;<\/td>\n",
       "      <td>2\/16\/23 19:49<\/td>\n",
       "      <td>unique<\/td>\n",
       "      <td>7\/27\/23<\/td>\n",
       "      <td>5\/7\/20<\/td>\n",
       "      <td>&lt;NA&gt;<\/td>\n",
       "      <td>114<\/td>\n",
       "      <td>82920563<\/td>\n",
       "      <td>680.35<\/td>\n",
       "      <td>1<\/td>\n",
       "    <\/tr>\n",
       "    <tr>\n",
       "      <th>2<\/th>\n",
       "      <td>8\/3\/23<\/td>\n",
       "      <td>8\/4\/23<\/td>\n",
       "      <td>8\/5\/23<\/td>\n",
       "      <td>started<\/td>\n",
       "      <td>Store 3<\/td>\n",
       "      <td>SUV<\/td>\n",
       "      <td>No<\/td>\n",
       "      <td>1244748<\/td>\n",
       "      <td>2\/6\/19<\/td>\n",
       "      <td>Austin<\/td>\n",
       "      <td>...<\/td>\n",
       "      <td>&lt;NA&gt;<\/td>\n",
       "      <td>8\/3\/23 20:27<\/td>\n",
       "      <td>unique<\/td>\n",
       "      <td>2\/7\/23<\/td>\n",
       "      <td>4\/25\/19<\/td>\n",
       "      <td>&lt;NA&gt;<\/td>\n",
       "      <td>17<\/td>\n",
       "      <td>66304067<\/td>\n",
       "      <td>131.0<\/td>\n",
       "      <td>0<\/td>\n",
       "    <\/tr>\n",
       "    <tr>\n",
       "      <th>3<\/th>\n",
       "      <td>6\/15\/23<\/td>\n",
       "      <td>7\/24\/23<\/td>\n",
       "      <td>8\/4\/23<\/td>\n",
       "      <td>finished<\/td>\n",
       "      <td>Store 4<\/td>\n",
       "      <td>Premium SUV<\/td>\n",
       "      <td>No<\/td>\n",
       "      <td>1237785<\/td>\n",
       "      <td>6\/15\/23<\/td>\n",
       "      <td>Glenview<\/td>\n",
       "      <td>...<\/td>\n",
       "      <td>&lt;NA&gt;<\/td>\n",
       "      <td>6\/15\/23 2:51<\/td>\n",
       "      <td>unique<\/td>\n",
       "      <td>&lt;NA&gt;<\/td>\n",
       "      <td>&lt;NA&gt;<\/td>\n",
       "      <td>7\/24\/23<\/td>\n",
       "      <td>11<\/td>\n",
       "      <td>95743569<\/td>\n",
       "      <td>1037.47<\/td>\n",
       "      <td>1<\/td>\n",
       "    <\/tr>\n",
       "    <tr>\n",
       "      <th>4<\/th>\n",
       "      <td>7\/30\/23<\/td>\n",
       "      <td>8\/4\/23<\/td>\n",
       "      <td>8\/6\/23<\/td>\n",
       "      <td>started<\/td>\n",
       "      <td>Store 3<\/td>\n",
       "      <td>Premium SUV<\/td>\n",
       "      <td>No<\/td>\n",
       "      <td>1244193<\/td>\n",
       "      <td>6\/26\/19<\/td>\n",
       "      <td>New York<\/td>\n",
       "      <td>...<\/td>\n",
       "      <td>&lt;NA&gt;<\/td>\n",
       "      <td>7\/30\/23 21:37<\/td>\n",
       "      <td>unique<\/td>\n",
       "      <td>2\/23\/23<\/td>\n",
       "      <td>6\/27\/19<\/td>\n",
       "      <td>&lt;NA&gt;<\/td>\n",
       "      <td>48.25<\/td>\n",
       "      <td>72437962<\/td>\n",
       "      <td>394.26<\/td>\n",
       "      <td>0<\/td>\n",
       "    <\/tr>\n",
       "  <\/tbody>\n",
       "<\/table>\n",
       "<p>5 rows × 26 columns<\/p>\n",
       "<\/div>"
      ]
     },
     "metadata":{
      
     },
     "output_type":"display_data"
    }
   ],
   "metadata":{
    "datalore":{
     "node_id":"AVoHGx0Efn7ANXrPBV41C1",
     "type":"CODE",
     "hide_input_from_viewers":true,
     "hide_output_from_viewers":true
    }
   }
  },
  {
   "cell_type":"code",
   "source":[
    "# Get Percent of missing data in each column, convert values from a decimal to a percentage and round to 2 decimal places.\n",
    "missing_data = round(reservations_df.isna().sum() \/ len(reservations_df) * 100, 2)\n",
    "missing_data"
   ],
   "execution_count":4,
   "outputs":[
    {
     "data":{
      "text\/html":[
       "<pre>Reservation Created Date                        0.00\n",
       "Pickup Date                                     0.00\n",
       "Dropoff Date                                    0.00\n",
       "Current State                                   0.00\n",
       "Airport Code                                    0.00\n",
       "Fleet Type                                      0.00\n",
       "Local Rental                                    0.00\n",
       "Reservation ID                                  0.00\n",
       "User Created Date                               0.00\n",
       "mostRecentCreditCardCity                       13.64\n",
       "mostRecentCreditCardState                      13.65\n",
       "mostRecentCreditCardZip                        13.64\n",
       "Reservation Updated At In Timezone Time         0.00\n",
       "Lifetime Completed Reservations                 0.01\n",
       "Average Daily Rate                              0.00\n",
       "Booking Length                                  0.00\n",
       "Cancelled At Time                              51.84\n",
       "Reservation Created Time                        0.00\n",
       "Rebook Status                                   0.00\n",
       "Last Completed Reservation Date                22.52\n",
       "First Completed Reservation Date               22.52\n",
       "First Booked Reservation Actual Pickup Time    86.83\n",
       "Lifetime Driving Days                           0.00\n",
       "userID                                          0.00\n",
       "Sales Revenue                                   0.00\n",
       "booked_with_code                                0.00\n",
       "dtype: float64<\/pre>"
      ]
     },
     "metadata":{
      
     },
     "output_type":"display_data"
    }
   ],
   "metadata":{
    "datalore":{
     "node_id":"SlDDGaAwpIbxXyz5v0SIaB",
     "type":"CODE",
     "hide_input_from_viewers":false,
     "hide_output_from_viewers":false,
     "report_properties":{
      "rowId":"yrIT66ZR4gOzbbKybwWeMp",
      "relativeY":0,
      "width":1,
      "height":23,
      "isDynamicHeight":false
     }
    }
   }
  },
  {
   "cell_type":"code",
   "source":[
    "# View number of non-null values in each column, along with column data type. \n",
    "reservations_df.info()"
   ],
   "execution_count":5,
   "outputs":[
    {
     "name":"stdout",
     "text":[
      "<class 'pandas.core.frame.DataFrame'>\n",
      "RangeIndex: 143273 entries, 0 to 143272\n",
      "Data columns (total 26 columns):\n",
      " #   Column                                       Non-Null Count   Dtype \n",
      "---  ------                                       --------------   ----- \n",
      " 0   Reservation Created Date                     143273 non-null  string\n",
      " 1   Pickup Date                                  143273 non-null  string\n",
      " 2   Dropoff Date                                 143273 non-null  string\n",
      " 3   Current State                                143273 non-null  string\n",
      " 4   Airport Code                                 143273 non-null  string\n",
      " 5   Fleet Type                                   143273 non-null  string\n",
      " 6   Local Rental                                 143273 non-null  string\n",
      " 7   Reservation ID                               143273 non-null  string\n",
      " 8   User Created Date                            143273 non-null  string\n",
      " 9   mostRecentCreditCardCity                     123724 non-null  string\n",
      " 10  mostRecentCreditCardState                    123711 non-null  string\n",
      " 11  mostRecentCreditCardZip                      123726 non-null  string\n",
      " 12  Reservation Updated At In Timezone Time      143273 non-null  string\n",
      " 13  Lifetime Completed Reservations              143256 non-null  string\n",
      " 14  Average Daily Rate                           143273 non-null  string\n",
      " 15  Booking Length                               143273 non-null  string\n",
      " 16  Cancelled At Time                            69003 non-null   string\n",
      " 17  Reservation Created Time                     143273 non-null  string\n",
      " 18  Rebook Status                                143273 non-null  string\n",
      " 19  Last Completed Reservation Date              111005 non-null  string\n",
      " 20  First Completed Reservation Date             111005 non-null  string\n",
      " 21  First Booked Reservation Actual Pickup Time  18869 non-null   string\n",
      " 22  Lifetime Driving Days                        143273 non-null  string\n",
      " 23  userID                                       143273 non-null  string\n",
      " 24  Sales Revenue                                143273 non-null  string\n",
      " 25  booked_with_code                             143273 non-null  string\n",
      "dtypes: string(26)\n",
      "memory usage: 28.4 MB\n"
     ],
     "output_type":"stream"
    }
   ],
   "metadata":{
    "datalore":{
     "node_id":"K7rzME4Dym4Wg9ArpEdCTT",
     "type":"CODE",
     "hide_input_from_viewers":false,
     "hide_output_from_viewers":false,
     "report_properties":{
      "rowId":"xs86SXy05vN6dpNGu4tXQL",
      "x":0,
      "relativeY":0,
      "width":1
     }
    }
   }
  },
  {
   "cell_type":"markdown",
   "source":[
    "Now that we have a better understanding of the dataset, i.e., dataframe shape, column data types, number of missing column values, and more, we can now begin to prepare the dataset for analysis. \n",
    "\n",
    "This process will consist of multiple steps but ultimately the goal is to:\n",
    "\n",
    "**A)** Convert column data to correct Dtype, i.e., all columns are currently type *String*.\n",
    "\n",
    "**B)** Drop unwanted data, and replace missing data where necessary.\n",
    "\n",
    "**C)** Create additional dataframe columns to assist with analysis. "
   ],
   "attachments":{
    
   },
   "metadata":{
    "datalore":{
     "node_id":"wNcidGKY0xYI8EM6ebJ1y4",
     "type":"MD",
     "hide_input_from_viewers":false,
     "hide_output_from_viewers":false,
     "report_properties":{
      "rowId":"xP1PkHkjZzHKymy5vTkzpa",
      "relativeY":7
     }
    }
   }
  },
  {
   "cell_type":"markdown",
   "source":[
    "### a. Convert column data types\n",
    "Since all columns currently are of Dtype *string*, we need to convert numerical columns to type *Float*, \n",
    "as well as any date values to *Datetime*. This process helps ensure that there are no exceptions raised when analyzing the data."
   ],
   "attachments":{
    
   },
   "metadata":{
    "datalore":{
     "node_id":"Zo23aJqWFnpeYhhP0cTsbs",
     "type":"MD",
     "hide_input_from_viewers":false,
     "hide_output_from_viewers":false,
     "report_properties":{
      "rowId":"puaC0Qvn36ayi3ClXiTXya",
      "relativeY":0
     }
    }
   }
  },
  {
   "cell_type":"code",
   "source":[
    "# Convert Float columns.\n",
    "reservations_df[[\"Lifetime Completed Reservations\", \"Sales Revenue\", \"Average Daily Rate\", \"Lifetime Driving Days\", \"booked_with_code\"]] = \\\n",
    "    reservations_df[[\"Lifetime Completed Reservations\", \"Sales Revenue\", \"Average Daily Rate\", \"Lifetime Driving Days\", \"booked_with_code\"]].astype(\"float\")"
   ],
   "execution_count":6,
   "outputs":[
    
   ],
   "metadata":{
    "datalore":{
     "node_id":"LGrPglGc5y1PtUjgbBipoj",
     "type":"CODE",
     "hide_input_from_viewers":false,
     "hide_output_from_viewers":false,
     "report_properties":{
      "rowId":"Wf0XimcWaWAQaI1HSN7VEe",
      "relativeY":0
     }
    }
   }
  },
  {
   "cell_type":"code",
   "source":[
    "# Convert Datetime columns\n",
    "reservations_df[\"User Created Date\"] = pd.to_datetime(reservations_df[\"User Created Date\"])\n",
    "reservations_df[\"Reservation Created Date\"] = pd.to_datetime(reservations_df[\"Reservation Created Date\"])\n",
    "reservations_df[\"Reservation Created Time\"] = pd.to_datetime(reservations_df[\"Reservation Created Time\"])\n",
    "reservations_df[\"Pickup Date\"] = pd.to_datetime(reservations_df[\"Pickup Date\"])\n",
    "reservations_df[\"Dropoff Date\"] = pd.to_datetime(reservations_df[\"Dropoff Date\"])\n",
    "reservations_df[\"First Completed Reservation Date\"] = pd.to_datetime(reservations_df[\"First Completed Reservation Date\"])\n",
    "reservations_df[\"Last Completed Reservation Date\"] = pd.to_datetime(reservations_df[\"Last Completed Reservation Date\"])\n",
    "reservations_df[\"Cancelled At Time\"] = pd.to_datetime(reservations_df[\"Cancelled At Time\"])"
   ],
   "execution_count":7,
   "outputs":[
    
   ],
   "metadata":{
    "datalore":{
     "node_id":"L6WxLE802tscynY0vpxvzK",
     "type":"CODE",
     "hide_input_from_viewers":false,
     "hide_output_from_viewers":false,
     "report_properties":{
      "rowId":"6AhfGytAlhRir2z8n360WZ",
      "relativeY":0
     }
    }
   }
  },
  {
   "cell_type":"code",
   "source":[
    "# Generates descriptive statistics about our DataFrame. Values should be rounded to 2 decimal places.\n",
    "reservations_df.describe().round(2)"
   ],
   "execution_count":8,
   "outputs":[
    {
     "data":{
      "text\/html":[
       "<div>\n",
       "<style scoped>\n",
       "    .dataframe tbody tr th:only-of-type {\n",
       "        vertical-align: middle;\n",
       "    }\n",
       "\n",
       "    .dataframe tbody tr th {\n",
       "        vertical-align: top;\n",
       "    }\n",
       "\n",
       "    .dataframe thead th {\n",
       "        text-align: right;\n",
       "    }\n",
       "<\/style>\n",
       "<table border=\"1\" class=\"dataframe\">\n",
       "  <thead>\n",
       "    <tr style=\"text-align: right;\">\n",
       "      <th><\/th>\n",
       "      <th>Lifetime Completed Reservations<\/th>\n",
       "      <th>Average Daily Rate<\/th>\n",
       "      <th>Lifetime Driving Days<\/th>\n",
       "      <th>Sales Revenue<\/th>\n",
       "      <th>booked_with_code<\/th>\n",
       "    <\/tr>\n",
       "  <\/thead>\n",
       "  <tbody>\n",
       "    <tr>\n",
       "      <th>count<\/th>\n",
       "      <td>143256.00<\/td>\n",
       "      <td>143273.00<\/td>\n",
       "      <td>143273.00<\/td>\n",
       "      <td>143273.00<\/td>\n",
       "      <td>143273.00<\/td>\n",
       "    <\/tr>\n",
       "    <tr>\n",
       "      <th>mean<\/th>\n",
       "      <td>7.78<\/td>\n",
       "      <td>112.81<\/td>\n",
       "      <td>52.23<\/td>\n",
       "      <td>403.92<\/td>\n",
       "      <td>0.43<\/td>\n",
       "    <\/tr>\n",
       "    <tr>\n",
       "      <th>std<\/th>\n",
       "      <td>18.92<\/td>\n",
       "      <td>35.44<\/td>\n",
       "      <td>183.84<\/td>\n",
       "      <td>373.63<\/td>\n",
       "      <td>0.49<\/td>\n",
       "    <\/tr>\n",
       "    <tr>\n",
       "      <th>min<\/th>\n",
       "      <td>0.00<\/td>\n",
       "      <td>10.71<\/td>\n",
       "      <td>0.00<\/td>\n",
       "      <td>0.95<\/td>\n",
       "      <td>0.00<\/td>\n",
       "    <\/tr>\n",
       "    <tr>\n",
       "      <th>25%<\/th>\n",
       "      <td>1.00<\/td>\n",
       "      <td>88.00<\/td>\n",
       "      <td>6.00<\/td>\n",
       "      <td>161.00<\/td>\n",
       "      <td>0.00<\/td>\n",
       "    <\/tr>\n",
       "    <tr>\n",
       "      <th>50%<\/th>\n",
       "      <td>2.00<\/td>\n",
       "      <td>107.50<\/td>\n",
       "      <td>15.00<\/td>\n",
       "      <td>303.25<\/td>\n",
       "      <td>0.00<\/td>\n",
       "    <\/tr>\n",
       "    <tr>\n",
       "      <th>75%<\/th>\n",
       "      <td>7.00<\/td>\n",
       "      <td>132.00<\/td>\n",
       "      <td>47.00<\/td>\n",
       "      <td>515.00<\/td>\n",
       "      <td>1.00<\/td>\n",
       "    <\/tr>\n",
       "    <tr>\n",
       "      <th>max<\/th>\n",
       "      <td>584.00<\/td>\n",
       "      <td>410.00<\/td>\n",
       "      <td>5701.00<\/td>\n",
       "      <td>9890.00<\/td>\n",
       "      <td>1.00<\/td>\n",
       "    <\/tr>\n",
       "  <\/tbody>\n",
       "<\/table>\n",
       "<\/div>"
      ]
     },
     "metadata":{
      
     },
     "output_type":"display_data"
    }
   ],
   "metadata":{
    "datalore":{
     "node_id":"RQu6lFxvnGMltX8WNe5utI",
     "type":"CODE",
     "hide_input_from_viewers":false,
     "hide_output_from_viewers":false,
     "report_properties":{
      "rowId":"g9B8Er4B257a25KdQskJXs",
      "relativeY":0
     }
    }
   }
  },
  {
   "cell_type":"markdown",
   "source":[
    "### b. Drop unwanted columns and rename column headers."
   ],
   "attachments":{
    
   },
   "metadata":{
    "datalore":{
     "node_id":"nIwKGtQmEqbPqLP4Fjuiq0",
     "type":"MD",
     "hide_input_from_viewers":false,
     "hide_output_from_viewers":false,
     "report_properties":{
      "rowId":"3Ccv0NJDTodOCvELzyPYdy",
      "relativeY":0
     }
    }
   }
  },
  {
   "cell_type":"code",
   "source":[
    "# Drop unwanted columns or columns missing a lot of data. \n",
    "reservations_df.drop(columns=[\"First Booked Reservation Actual Pickup Time\", \"Reservation Updated At In Timezone Time\"], inplace=True)\n",
    "# Rename columns that have long or ambiguous names. \n",
    "reservations_df.rename(columns={\"mostRecentCreditCardZip\":\"Zip\", \"mostRecentCreditCardCity\":\"City\", \"mostRecentCreditCardState\":\"State\", \"Sales Revenue\":\"sales_rev\",\n",
    "                                \"Lifetime Completed Reservations\":\"lifetime_completed_reservations\", \"Lifetime Driving Days\":\"lifetime_driving_days\", \"Airport Code\":\"Store Code\",\n",
    "                                \"Average Daily Rate\": \"avg_daily_rate\"}, inplace=True)"
   ],
   "execution_count":9,
   "outputs":[
    
   ],
   "metadata":{
    "datalore":{
     "node_id":"aE8vUZJ2dYJ2xhjHlkupqN",
     "type":"CODE",
     "hide_input_from_viewers":false,
     "hide_output_from_viewers":false,
     "report_properties":{
      "rowId":"pJyWvSK09oPv7tKH58hS1a",
      "relativeY":0
     }
    }
   }
  },
  {
   "cell_type":"code",
   "source":[
    "# View column information now to see the how to dataframe has been altered.\n",
    "reservations_df.info()"
   ],
   "execution_count":10,
   "outputs":[
    {
     "name":"stdout",
     "text":[
      "<class 'pandas.core.frame.DataFrame'>\n",
      "RangeIndex: 143273 entries, 0 to 143272\n",
      "Data columns (total 24 columns):\n",
      " #   Column                            Non-Null Count   Dtype         \n",
      "---  ------                            --------------   -----         \n",
      " 0   Reservation Created Date          143273 non-null  datetime64[ns]\n",
      " 1   Pickup Date                       143273 non-null  datetime64[ns]\n",
      " 2   Dropoff Date                      143273 non-null  datetime64[ns]\n",
      " 3   Current State                     143273 non-null  string        \n",
      " 4   Store Code                        143273 non-null  string        \n",
      " 5   Fleet Type                        143273 non-null  string        \n",
      " 6   Local Rental                      143273 non-null  string        \n",
      " 7   Reservation ID                    143273 non-null  string        \n",
      " 8   User Created Date                 143273 non-null  datetime64[ns]\n",
      " 9   City                              123724 non-null  string        \n",
      " 10  State                             123711 non-null  string        \n",
      " 11  Zip                               123726 non-null  string        \n",
      " 12  lifetime_completed_reservations   143256 non-null  float64       \n",
      " 13  avg_daily_rate                    143273 non-null  float64       \n",
      " 14  Booking Length                    143273 non-null  string        \n",
      " 15  Cancelled At Time                 69003 non-null   datetime64[ns]\n",
      " 16  Reservation Created Time          143273 non-null  datetime64[ns]\n",
      " 17  Rebook Status                     143273 non-null  string        \n",
      " 18  Last Completed Reservation Date   111005 non-null  datetime64[ns]\n",
      " 19  First Completed Reservation Date  111005 non-null  datetime64[ns]\n",
      " 20  lifetime_driving_days             143273 non-null  float64       \n",
      " 21  userID                            143273 non-null  string        \n",
      " 22  sales_rev                         143273 non-null  float64       \n",
      " 23  booked_with_code                  143273 non-null  float64       \n",
      "dtypes: datetime64[ns](8), float64(5), string(11)\n",
      "memory usage: 26.2 MB\n"
     ],
     "output_type":"stream"
    }
   ],
   "metadata":{
    "datalore":{
     "node_id":"V4kRK2IJRflD7Y11WEEeR9",
     "type":"CODE",
     "hide_input_from_viewers":false,
     "hide_output_from_viewers":false,
     "report_properties":{
      "rowId":"Bfz5AdSxtfssZvtFmgJH7V",
      "relativeY":0
     }
    }
   }
  },
  {
   "cell_type":"markdown",
   "source":[
    "### c. *Replace* data in columns where necessary.\n",
    "The reason for doing this is two-part– First, we want to replace missing values in certain columns. Second, for better use during analysis, we may want to replace certain column values that are ambiguous or redundant. \n",
    "For example, the column 'Current State' has six unique values: *finished, started, booked, cancelled, no_showed, payment_declined_cancelled*.\n",
    "\n",
    "But for the purpose of this analysis, we aren't interested in differentiating between *cancelled, no_showed,* or *payment_declined_cancelled*, so we will replace each instance of ***no_showed***, or ***payment_declined_cancelled*** with ***cancelled***"
   ],
   "attachments":{
    
   },
   "metadata":{
    "datalore":{
     "node_id":"9fGE2FthmE4Mi7lkH3qNld",
     "type":"MD",
     "hide_input_from_viewers":false,
     "hide_output_from_viewers":false,
     "report_properties":{
      "rowId":"rrlp27vAFF07MTb3Rks0ud",
      "relativeY":0
     }
    }
   }
  },
  {
   "cell_type":"code",
   "source":[
    "# View unique values before replacing data.\n",
    "print(reservations_df[\"Current State\"].unique())\n",
    "# Modify column 'Current State' to contain only 3 different statuses\n",
    "reservations_df[\"Current State\"] = reservations_df[\"Current State\"].replace([\"no_showed\", \"payment_declined_cancelled\"], 'cancelled')\n",
    "# Current State column values after replacing unwanted values.\n",
    "print(reservations_df[\"Current State\"].unique())\n",
    "\n",
    "# Replace missing data with string value 'NONE' as we don't want to drop records where this information may be missing. \n",
    "reservations_df[[\"Zip\", \"City\", \"State\"]] = reservations_df[[\"Zip\", \"City\", \"State\"]].replace(np.nan, \"NONE\")"
   ],
   "execution_count":11,
   "outputs":[
    {
     "name":"stdout",
     "text":[
      "<StringArray>\n",
      "[                  'finished',                    'started',\n",
      "                     'booked',                  'cancelled',\n",
      "                  'no_showed', 'payment_declined_cancelled']\n",
      "Length: 6, dtype: string\n",
      "<StringArray>\n",
      "['finished', 'started', 'booked', 'cancelled']\n",
      "Length: 4, dtype: string\n"
     ],
     "output_type":"stream"
    }
   ],
   "metadata":{
    "datalore":{
     "node_id":"uM44694RBdy8xWqkg4ltIi",
     "type":"CODE",
     "hide_input_from_viewers":false,
     "hide_output_from_viewers":false,
     "report_properties":{
      "rowId":"nBKYZ7MXx18Lcxv5X3uZdE",
      "relativeY":0
     }
    }
   }
  },
  {
   "cell_type":"markdown",
   "source":[
    "### d. Reformat dataframe column positions\n",
    "Position *Rebook Status* next to *Current State* for easier interpretation of the data when viewing. "
   ],
   "attachments":{
    
   },
   "metadata":{
    "datalore":{
     "node_id":"bxSrVJT5okrylbwNAKaIxO",
     "type":"MD",
     "hide_input_from_viewers":false,
     "hide_output_from_viewers":false,
     "report_properties":{
      "rowId":"U0w8lM01TjOol4uC2hiuDr",
      "relativeY":0
     }
    }
   }
  },
  {
   "cell_type":"code",
   "source":[
    "# Insert column 'Rebook Status' next to 'Current State'.\n",
    "col = reservations_df.pop('Rebook Status')\n",
    "reservations_df.insert(4, col.name, col)"
   ],
   "execution_count":12,
   "outputs":[
    
   ],
   "metadata":{
    "datalore":{
     "node_id":"3H4rM7SMZhvyTTN2iyBxmn",
     "type":"CODE",
     "hide_input_from_viewers":false,
     "hide_output_from_viewers":false,
     "report_properties":{
      "rowId":"VnyDdNe6RYSAkK99rOT78O",
      "relativeY":0
     }
    }
   }
  },
  {
   "cell_type":"code",
   "source":[
    "# Get Percent of missing data in each column, convert the missing_data from a \n",
    "# decimal to a percentage and round to 2 decimal places.\n",
    "missing_data2 = round(reservations_df.isna().sum() \/ len(reservations_df) * 100, 2)\n",
    "missing_data2"
   ],
   "execution_count":13,
   "outputs":[
    {
     "data":{
      "text\/html":[
       "<pre>Reservation Created Date             0.00\n",
       "Pickup Date                          0.00\n",
       "Dropoff Date                         0.00\n",
       "Current State                        0.00\n",
       "Rebook Status                        0.00\n",
       "Store Code                           0.00\n",
       "Fleet Type                           0.00\n",
       "Local Rental                         0.00\n",
       "Reservation ID                       0.00\n",
       "User Created Date                    0.00\n",
       "City                                 0.00\n",
       "State                                0.00\n",
       "Zip                                  0.00\n",
       "lifetime_completed_reservations      0.01\n",
       "avg_daily_rate                       0.00\n",
       "Booking Length                       0.00\n",
       "Cancelled At Time                   51.84\n",
       "Reservation Created Time             0.00\n",
       "Last Completed Reservation Date     22.52\n",
       "First Completed Reservation Date    22.52\n",
       "lifetime_driving_days                0.00\n",
       "userID                               0.00\n",
       "sales_rev                            0.00\n",
       "booked_with_code                     0.00\n",
       "dtype: float64<\/pre>"
      ]
     },
     "metadata":{
      
     },
     "output_type":"display_data"
    }
   ],
   "metadata":{
    "datalore":{
     "node_id":"q4H3WA83NFKkvCUGXRbqg7",
     "type":"CODE",
     "hide_input_from_viewers":false,
     "hide_output_from_viewers":false,
     "report_properties":{
      "rowId":"n4dCNBPmHmM8IWMFL4NidW",
      "relativeY":0
     }
    }
   }
  },
  {
   "cell_type":"markdown",
   "source":[
    "### e. Create additional columns to extract the month and year that reservation activity is occurring. "
   ],
   "attachments":{
    
   },
   "metadata":{
    "datalore":{
     "node_id":"skZJhU8s1kxGaGkxgfi4nS",
     "type":"MD",
     "hide_input_from_viewers":false,
     "hide_output_from_viewers":false,
     "report_properties":{
      "rowId":"emDSMGcmkUCdmzXKuiblOd",
      "relativeY":0
     }
    }
   }
  },
  {
   "cell_type":"markdown",
   "source":[
    "### Created Month, Created Year, Dropoff Month, Pickup Month\n",
    "The main reason for adding these columns has nothing to do with what we'll be doing in this analysis, but rather for use if this DataFrame were to be exported and used to build out a dashboard using software such as Tableau. While many of these services offer you the ability to extract the month and year from a given date, it is sometimes easier to just add the data while performing cleanup. "
   ],
   "attachments":{
    
   },
   "metadata":{
    "datalore":{
     "node_id":"CG9JDNDrXUDQE5vBXh9Pze",
     "type":"MD",
     "hide_input_from_viewers":false,
     "hide_output_from_viewers":false,
     "report_properties":{
      "rowId":"MA2kBF7XRNoPZUrw533p6A",
      "relativeY":0
     }
    }
   }
  },
  {
   "cell_type":"code",
   "source":[
    "# Create a \"Created Month\" column to display the Month that the reservation was created in.\n",
    "reservations_df[\"Created Period\"] = reservations_df[\"Reservation Created Date\"].dt.strftime('%Y-%m')\n",
    "# Create a \"Created Month Name\" column to display the Month Name that the reservation was created in.\n",
    "reservations_df[\"Created Month\"] = reservations_df[\"Reservation Created Date\"].dt.month\n",
    "# Create a \"Created Year\" column to display the Year that the reservation was created in.\n",
    "reservations_df[\"Created Year\"] = reservations_df[\"Reservation Created Date\"].dt.strftime('%Y')\n",
    "# Create a \"Pickup Month\" column to display the Month that the reservation was started in.\n",
    "reservations_df[\"Pickup Month\"] = reservations_df[\"Pickup Date\"].dt.month\n",
    "# Create a \"Dropoff Month\" column to display the Month that the reservation was ended in.\n",
    "reservations_df[\"Dropoff Month\"] = reservations_df[\"Dropoff Date\"].dt.month\n",
    "# View new columns\n",
    "reservations_df[[\"Reservation Created Date\",\"Created Period\",\"Created Month\",\"Created Year\", \"Pickup Month\", \"Dropoff Month\"]].head()"
   ],
   "execution_count":14,
   "outputs":[
    {
     "data":{
      "text\/html":[
       "<div>\n",
       "<style scoped>\n",
       "    .dataframe tbody tr th:only-of-type {\n",
       "        vertical-align: middle;\n",
       "    }\n",
       "\n",
       "    .dataframe tbody tr th {\n",
       "        vertical-align: top;\n",
       "    }\n",
       "\n",
       "    .dataframe thead th {\n",
       "        text-align: right;\n",
       "    }\n",
       "<\/style>\n",
       "<table border=\"1\" class=\"dataframe\">\n",
       "  <thead>\n",
       "    <tr style=\"text-align: right;\">\n",
       "      <th><\/th>\n",
       "      <th>Reservation Created Date<\/th>\n",
       "      <th>Created Period<\/th>\n",
       "      <th>Created Month<\/th>\n",
       "      <th>Created Year<\/th>\n",
       "      <th>Pickup Month<\/th>\n",
       "      <th>Dropoff Month<\/th>\n",
       "    <\/tr>\n",
       "  <\/thead>\n",
       "  <tbody>\n",
       "    <tr>\n",
       "      <th>0<\/th>\n",
       "      <td>2023-07-18<\/td>\n",
       "      <td>2023-07<\/td>\n",
       "      <td>7<\/td>\n",
       "      <td>2023<\/td>\n",
       "      <td>7<\/td>\n",
       "      <td>8<\/td>\n",
       "    <\/tr>\n",
       "    <tr>\n",
       "      <th>1<\/th>\n",
       "      <td>2023-02-16<\/td>\n",
       "      <td>2023-02<\/td>\n",
       "      <td>2<\/td>\n",
       "      <td>2023<\/td>\n",
       "      <td>8<\/td>\n",
       "      <td>8<\/td>\n",
       "    <\/tr>\n",
       "    <tr>\n",
       "      <th>2<\/th>\n",
       "      <td>2023-08-03<\/td>\n",
       "      <td>2023-08<\/td>\n",
       "      <td>8<\/td>\n",
       "      <td>2023<\/td>\n",
       "      <td>8<\/td>\n",
       "      <td>8<\/td>\n",
       "    <\/tr>\n",
       "    <tr>\n",
       "      <th>3<\/th>\n",
       "      <td>2023-06-15<\/td>\n",
       "      <td>2023-06<\/td>\n",
       "      <td>6<\/td>\n",
       "      <td>2023<\/td>\n",
       "      <td>7<\/td>\n",
       "      <td>8<\/td>\n",
       "    <\/tr>\n",
       "    <tr>\n",
       "      <th>4<\/th>\n",
       "      <td>2023-07-30<\/td>\n",
       "      <td>2023-07<\/td>\n",
       "      <td>7<\/td>\n",
       "      <td>2023<\/td>\n",
       "      <td>8<\/td>\n",
       "      <td>8<\/td>\n",
       "    <\/tr>\n",
       "  <\/tbody>\n",
       "<\/table>\n",
       "<\/div>"
      ]
     },
     "metadata":{
      
     },
     "output_type":"display_data"
    }
   ],
   "metadata":{
    "datalore":{
     "node_id":"C8R5JUtmAGQcDguLLY83oN",
     "type":"CODE",
     "hide_input_from_viewers":false,
     "hide_output_from_viewers":false,
     "report_properties":{
      "rowId":"eM0JO5WocxvEYPCJRplE1K",
      "relativeY":0
     }
    }
   }
  },
  {
   "cell_type":"markdown",
   "source":[
    "#### reservation_length\n",
    "While this data will be useful when performing a trend analysis, one of the main reasons we want this column is so we can differentiate which customers are in ***short-term*** vs ***long-term*** rentals."
   ],
   "attachments":{
    
   },
   "metadata":{
    "datalore":{
     "node_id":"4IzK9mCkKtdtlgP1SjrKEO",
     "type":"MD",
     "hide_input_from_viewers":false,
     "hide_output_from_viewers":false,
     "report_properties":{
      "rowId":"RcZO7IXQiy89jD1Hb1emLH",
      "relativeY":0
     }
    }
   }
  },
  {
   "cell_type":"code",
   "source":[
    "# Create column 'reservation_length' to understand how long customer reservations are. \n",
    "reservations_df[\"reservation_length\"] = [d.days for d in (reservations_df[\"Dropoff Date\"] - reservations_df[\"Pickup Date\"])]"
   ],
   "execution_count":15,
   "outputs":[
    
   ],
   "metadata":{
    "datalore":{
     "node_id":"XL2xiO3j3uVLpNNDJWlsdb",
     "type":"CODE",
     "hide_input_from_viewers":false,
     "hide_output_from_viewers":false,
     "report_properties":{
      "rowId":"qdS4FZSxM6R8eXfMzecbQs",
      "relativeY":0
     }
    }
   }
  },
  {
   "cell_type":"markdown",
   "source":[
    "#### booked_window\n",
    "The column ***booked_window*** will represent the total number of days from when a customer created their reservation and when they are going to pick it up. \n",
    "\n",
    "Having this information allows us to better understand how far in advance customers tend to book. With this data, Marketing teams can more accurately target customers with specific offers or info. "
   ],
   "attachments":{
    
   },
   "metadata":{
    "datalore":{
     "node_id":"igMtXh18zf2T1lBWmcAfTD",
     "type":"MD",
     "hide_input_from_viewers":false,
     "hide_output_from_viewers":false,
     "report_properties":{
      "rowId":"S8Lkd6gprnHu3tccH3GZ3q",
      "relativeY":0
     }
    }
   }
  },
  {
   "cell_type":"code",
   "source":[
    "# Create column 'booked_window' to understand how many days out from the Pickup date each customer is creating their reservation. \n",
    "reservations_df[\"booked_window\"] = [d.days for d in (reservations_df[\"Pickup Date\"] - reservations_df[\"Reservation Created Date\"])]"
   ],
   "execution_count":16,
   "outputs":[
    
   ],
   "metadata":{
    "datalore":{
     "node_id":"u9modaURiIUWeUZaVunRqn",
     "type":"CODE",
     "hide_input_from_viewers":false,
     "hide_output_from_viewers":false,
     "report_properties":{
      "rowId":"0VUB5Guj6q1X2emkZ2DSdQ",
      "relativeY":0
     }
    }
   }
  },
  {
   "cell_type":"markdown",
   "source":[
    "#### time_as_customer\n",
    "The column ***time_as_customer*** will represent the total number of days from when a customer created their reservation and when they are going to pick it up. \n",
    "\n",
    "Having this information allows us to better understand how far in advance customers tend to book. With this data, Marketing teams can more accurately target customers with specific offers or info. "
   ],
   "attachments":{
    
   },
   "metadata":{
    "datalore":{
     "node_id":"mNScwY0FUPeQCLkW8pyXf9",
     "type":"MD",
     "hide_input_from_viewers":true,
     "hide_output_from_viewers":true
    }
   }
  },
  {
   "cell_type":"code",
   "source":[
    "# Create column 'time_as_customer' to understand how long ago each customer joined at the time of creating a new reservation.\n",
    "# This means a unique customer with multiple created reservations will have different 'time_as_customer' values for each record.\n",
    "\n",
    "# Modify column to just display the number of days as an integer. \n",
    "reservations_df[\"time_as_customer\"] = [d.days for d in (reservations_df[\"Reservation Created Date\"] - reservations_df[\"User Created Date\"])]"
   ],
   "execution_count":17,
   "outputs":[
    
   ],
   "metadata":{
    "datalore":{
     "node_id":"ewCnmDwAdq8jsmyZsGHIq4",
     "type":"CODE",
     "hide_input_from_viewers":false,
     "hide_output_from_viewers":false,
     "report_properties":{
      "rowId":"YdxazNqpEDf7JIhakV3Ura",
      "relativeY":0
     }
    }
   }
  },
  {
   "cell_type":"markdown",
   "source":[
    "---"
   ],
   "attachments":{
    
   },
   "metadata":{
    "datalore":{
     "node_id":"IsGXmjpCikTfz1RjxaGqGJ",
     "type":"MD",
     "hide_input_from_viewers":true,
     "hide_output_from_viewers":true
    }
   }
  },
  {
   "cell_type":"markdown",
   "source":[
    "### 2f. Remove outliers from dataset\n",
    "\n",
    "Now that we've created several new Dataframe columns, we must identify any outliers in the data that could potentially skew the outcome of our results when analyzing the data. To do this, we will first create a copy of the original dataframe and then remove the identified outliers. "
   ],
   "attachments":{
    
   },
   "metadata":{
    "datalore":{
     "node_id":"aYYNxSp9qjzSGJwet1JkLB",
     "type":"MD",
     "hide_input_from_viewers":false,
     "hide_output_from_viewers":false,
     "report_properties":{
      "rowId":"yxzXuNuxnczUhZrRNemlyI",
      "relativeY":0
     }
    }
   }
  },
  {
   "cell_type":"code",
   "source":[
    "reservations_df.describe().round(2)"
   ],
   "execution_count":18,
   "outputs":[
    {
     "data":{
      "text\/html":[
       "<div>\n",
       "<style scoped>\n",
       "    .dataframe tbody tr th:only-of-type {\n",
       "        vertical-align: middle;\n",
       "    }\n",
       "\n",
       "    .dataframe tbody tr th {\n",
       "        vertical-align: top;\n",
       "    }\n",
       "\n",
       "    .dataframe thead th {\n",
       "        text-align: right;\n",
       "    }\n",
       "<\/style>\n",
       "<table border=\"1\" class=\"dataframe\">\n",
       "  <thead>\n",
       "    <tr style=\"text-align: right;\">\n",
       "      <th><\/th>\n",
       "      <th>lifetime_completed_reservations<\/th>\n",
       "      <th>avg_daily_rate<\/th>\n",
       "      <th>lifetime_driving_days<\/th>\n",
       "      <th>sales_rev<\/th>\n",
       "      <th>booked_with_code<\/th>\n",
       "      <th>Created Month<\/th>\n",
       "      <th>Pickup Month<\/th>\n",
       "      <th>Dropoff Month<\/th>\n",
       "      <th>reservation_length<\/th>\n",
       "      <th>booked_window<\/th>\n",
       "      <th>time_as_customer<\/th>\n",
       "    <\/tr>\n",
       "  <\/thead>\n",
       "  <tbody>\n",
       "    <tr>\n",
       "      <th>count<\/th>\n",
       "      <td>143256.00<\/td>\n",
       "      <td>143273.00<\/td>\n",
       "      <td>143273.00<\/td>\n",
       "      <td>143273.00<\/td>\n",
       "      <td>143273.00<\/td>\n",
       "      <td>143273.00<\/td>\n",
       "      <td>143273.00<\/td>\n",
       "      <td>143273.00<\/td>\n",
       "      <td>143273.00<\/td>\n",
       "      <td>143273.00<\/td>\n",
       "      <td>143273.00<\/td>\n",
       "    <\/tr>\n",
       "    <tr>\n",
       "      <th>mean<\/th>\n",
       "      <td>7.78<\/td>\n",
       "      <td>112.81<\/td>\n",
       "      <td>52.23<\/td>\n",
       "      <td>403.92<\/td>\n",
       "      <td>0.43<\/td>\n",
       "      <td>5.96<\/td>\n",
       "      <td>6.38<\/td>\n",
       "      <td>6.36<\/td>\n",
       "      <td>3.85<\/td>\n",
       "      <td>27.51<\/td>\n",
       "      <td>636.06<\/td>\n",
       "    <\/tr>\n",
       "    <tr>\n",
       "      <th>std<\/th>\n",
       "      <td>18.92<\/td>\n",
       "      <td>35.44<\/td>\n",
       "      <td>183.84<\/td>\n",
       "      <td>373.63<\/td>\n",
       "      <td>0.49<\/td>\n",
       "      <td>3.31<\/td>\n",
       "      <td>3.32<\/td>\n",
       "      <td>3.31<\/td>\n",
       "      <td>4.50<\/td>\n",
       "      <td>39.73<\/td>\n",
       "      <td>777.59<\/td>\n",
       "    <\/tr>\n",
       "    <tr>\n",
       "      <th>min<\/th>\n",
       "      <td>0.00<\/td>\n",
       "      <td>10.71<\/td>\n",
       "      <td>0.00<\/td>\n",
       "      <td>0.95<\/td>\n",
       "      <td>0.00<\/td>\n",
       "      <td>1.00<\/td>\n",
       "      <td>1.00<\/td>\n",
       "      <td>1.00<\/td>\n",
       "      <td>0.00<\/td>\n",
       "      <td>-5.00<\/td>\n",
       "      <td>0.00<\/td>\n",
       "    <\/tr>\n",
       "    <tr>\n",
       "      <th>25%<\/th>\n",
       "      <td>1.00<\/td>\n",
       "      <td>88.00<\/td>\n",
       "      <td>6.00<\/td>\n",
       "      <td>161.00<\/td>\n",
       "      <td>0.00<\/td>\n",
       "      <td>3.00<\/td>\n",
       "      <td>4.00<\/td>\n",
       "      <td>4.00<\/td>\n",
       "      <td>1.00<\/td>\n",
       "      <td>1.00<\/td>\n",
       "      <td>0.00<\/td>\n",
       "    <\/tr>\n",
       "    <tr>\n",
       "      <th>50%<\/th>\n",
       "      <td>2.00<\/td>\n",
       "      <td>107.50<\/td>\n",
       "      <td>15.00<\/td>\n",
       "      <td>303.25<\/td>\n",
       "      <td>0.00<\/td>\n",
       "      <td>6.00<\/td>\n",
       "      <td>6.00<\/td>\n",
       "      <td>6.00<\/td>\n",
       "      <td>3.00<\/td>\n",
       "      <td>10.00<\/td>\n",
       "      <td>284.00<\/td>\n",
       "    <\/tr>\n",
       "    <tr>\n",
       "      <th>75%<\/th>\n",
       "      <td>7.00<\/td>\n",
       "      <td>132.00<\/td>\n",
       "      <td>47.00<\/td>\n",
       "      <td>515.00<\/td>\n",
       "      <td>1.00<\/td>\n",
       "      <td>9.00<\/td>\n",
       "      <td>9.00<\/td>\n",
       "      <td>9.00<\/td>\n",
       "      <td>4.00<\/td>\n",
       "      <td>37.00<\/td>\n",
       "      <td>1084.00<\/td>\n",
       "    <\/tr>\n",
       "    <tr>\n",
       "      <th>max<\/th>\n",
       "      <td>584.00<\/td>\n",
       "      <td>410.00<\/td>\n",
       "      <td>5701.00<\/td>\n",
       "      <td>9890.00<\/td>\n",
       "      <td>1.00<\/td>\n",
       "      <td>12.00<\/td>\n",
       "      <td>12.00<\/td>\n",
       "      <td>12.00<\/td>\n",
       "      <td>91.00<\/td>\n",
       "      <td>1040.00<\/td>\n",
       "      <td>3819.00<\/td>\n",
       "    <\/tr>\n",
       "  <\/tbody>\n",
       "<\/table>\n",
       "<\/div>"
      ]
     },
     "metadata":{
      
     },
     "output_type":"display_data"
    }
   ],
   "metadata":{
    "datalore":{
     "node_id":"DM9GVAhZLNJR7oW9XZOnbI",
     "type":"CODE",
     "hide_input_from_viewers":true,
     "hide_output_from_viewers":true
    }
   }
  },
  {
   "cell_type":"markdown",
   "source":[
    "1. #### booked_window\n",
    "\n",
    "Using the describe() method above, we can see that the minimum column value is -5. A negative value in this column would imply that the Dropoff Date\n",
    "occurred before the Pickup Date, which can not be the case. We'll assume these records are invalid and drop them.\n",
    "\n",
    "Aside from the negative value, we can also see that our max column value, 1040 days, lies very far from our mean value of 27.5. Therefore, to ensure accuracy when measuring certain metrics, we'll remove the extreme outliers in both directions. "
   ],
   "attachments":{
    
   },
   "metadata":{
    "datalore":{
     "node_id":"ztuUp6ySxP3AuzHSwb33PR",
     "type":"MD",
     "hide_input_from_viewers":true,
     "hide_output_from_viewers":true
    }
   }
  },
  {
   "cell_type":"code",
   "source":[
    "# Find out what percent of data falls within certain range in order to minimize outliers.\n",
    "overall_mean = reservations_df[\"booked_window\"].mean()\n",
    "overall_std = reservations_df[\"booked_window\"].std()\n",
    "upper_lim = overall_mean + 3 * overall_std\n",
    "print(f'Upper Limit of column: {round(upper_lim,2)} days')\n",
    "\n",
    "# Create Subset of outliers in booked_window column.\n",
    "temp_df = reservations_df[(reservations_df[\"booked_window\"] < 0) | (reservations_df[\"booked_window\"] >= upper_lim)]\n",
    "print(f'Percent of records considered outliers: {round(temp_df.shape[0] \/ len(reservations_df) * 100,2)}%')"
   ],
   "execution_count":19,
   "outputs":[
    {
     "name":"stdout",
     "text":[
      "Upper Limit of column: 146.68 days\n",
      "Percent of records considered outliers: 2.65%\n"
     ],
     "output_type":"stream"
    }
   ],
   "metadata":{
    "datalore":{
     "node_id":"ORDluChoBDarDPsjlc1iaJ",
     "type":"CODE",
     "hide_input_from_viewers":true,
     "hide_output_from_viewers":true
    }
   }
  },
  {
   "cell_type":"markdown",
   "source":[
    "#### Since booked_window will be used to analyze customer behavior frequently throughout the analysis, we will remove the outlier values to avoid inaccuracies in our insights. "
   ],
   "attachments":{
    
   },
   "metadata":{
    "datalore":{
     "node_id":"TiSw5LD0SFokAID5i4idWW",
     "type":"MD",
     "hide_input_from_viewers":true,
     "hide_output_from_viewers":true
    }
   }
  },
  {
   "cell_type":"code",
   "source":[
    "# Modify dataframe so that it only contains customer records with a booked_window that fall in our given range.\n",
    "cleaned_df = reservations_df[(reservations_df[\"booked_window\"] >= 0) & (reservations_df[\"booked_window\"] <= upper_lim)]"
   ],
   "execution_count":20,
   "outputs":[
    
   ],
   "metadata":{
    "datalore":{
     "node_id":"kh6ov5w3lzssWhvpOdpCl3",
     "type":"CODE",
     "hide_input_from_viewers":true,
     "hide_output_from_viewers":true
    }
   }
  },
  {
   "cell_type":"code",
   "source":[
    "# Create histogram using reservation_length\n",
    "plt.rcParams.update({'font.size': 12})\n",
    "fig, axs = plt.subplots(2,figsize=(15,10), sharex=False)\n",
    "fig.suptitle('Booking Window Distribution',fontweight='bold')\n",
    "\n",
    "# Population\n",
    "axs[0].hist(reservations_df[\"booked_window\"])\n",
    "axs[1].hist(cleaned_df[\"booked_window\"], color=\"#f50537\")\n",
    "\n",
    "axs[0].set_title(\"Original data\",loc='left',fontweight='bold')\n",
    "axs[1].set_title(\"Cleaned data\",loc='left',fontweight='bold')\n",
    "\n",
    "# Set axis labels\n",
    "axs[0].set_xlabel('Days', labelpad=5)\n",
    "axs[1].set_xlabel('Days', labelpad=5)\n",
    "axs[0].set_ylabel('Freq', labelpad=15)\n",
    "axs[1].set_ylabel('Freq', labelpad=15)\n",
    "plt.show()"
   ],
   "execution_count":21,
   "outputs":[
    {
     "data":{
      "image\/png":"[encoded data removed]"
     },
     "metadata":{
      "image\/png":{
       
      }
     },
     "output_type":"display_data"
    }
   ],
   "metadata":{
    "datalore":{
     "node_id":"mzYrkmVeNckUonhB7ORKOR",
     "type":"CODE",
     "hide_input_from_viewers":true,
     "hide_output_from_viewers":true
    }
   }
  },
  {
   "cell_type":"markdown",
   "source":[
    "2. #### reservation_length\n",
    "\n",
    "For the purpose of this analysis we are only going to focus on rentals that have a ***reservation_length less than 30 days***. This is because rentals that are 30 days or longer only occur at certain store locations and are priced at a different daily rate. Therefore, we'll remove these records to avoid skewing our data.. "
   ],
   "attachments":{
    
   },
   "metadata":{
    "datalore":{
     "node_id":"b0buDqjLiNxNg3DNVHaKNC",
     "type":"MD",
     "hide_input_from_viewers":false,
     "hide_output_from_viewers":false,
     "report_properties":{
      "rowId":"UXf0uibRJKepqOnktNWgDY",
      "relativeY":0
     }
    }
   }
  },
  {
   "cell_type":"code",
   "source":[
    "# How many customers have a reservation_length that is > 30 days?\n",
    "gt30days = reservations_df[reservations_df[\"reservation_length\"] > 30]\n",
    "print(f'Percent of reservations longer than 30 days: {round(gt30days.shape[0] \/ len(reservations_df) * 100,2)}%')"
   ],
   "execution_count":22,
   "outputs":[
    {
     "name":"stdout",
     "text":[
      "Percent of reservations longer than 30 days: 0.09%\n"
     ],
     "output_type":"stream"
    }
   ],
   "metadata":{
    "datalore":{
     "node_id":"MP7dSpIq72IQV803JjFiFp",
     "type":"CODE",
     "hide_input_from_viewers":false,
     "hide_output_from_viewers":false,
     "report_properties":{
      "rowId":"uIK8sJLWqC4HnVoRGB9AMi",
      "relativeY":0
     }
    }
   }
  },
  {
   "cell_type":"code",
   "source":[
    "# Get all reservations that have a length of no more than 30 days.\n",
    "cleaned_df = cleaned_df[cleaned_df[\"reservation_length\"] <= 30]"
   ],
   "execution_count":23,
   "outputs":[
    
   ],
   "metadata":{
    "datalore":{
     "node_id":"JOapxeFO6w7JOeBTP7BIFf",
     "type":"CODE",
     "hide_input_from_viewers":false,
     "hide_output_from_viewers":false,
     "report_properties":{
      "rowId":"obEmm1bsE9Bk0q6PorhkaE",
      "relativeY":0
     }
    }
   }
  },
  {
   "cell_type":"code",
   "source":[
    "# Create histogram using reservation_length\n",
    "plt.rcParams.update({'font.size': 12})\n",
    "fig, axs = plt.subplots(2,figsize=(15,10), sharex=False)\n",
    "fig.suptitle('Reservation Length Distribution',fontweight='bold')\n",
    "\n",
    "# Population\n",
    "axs[0].hist(reservations_df[\"reservation_length\"])\n",
    "axs[1].hist(cleaned_df[\"reservation_length\"], color=\"#f50537\")\n",
    "\n",
    "axs[0].set_title(\"Original data\",loc='right')\n",
    "axs[1].set_title(\"Cleaned data\",loc='right')\n",
    "\n",
    "# Set axis labels\n",
    "axs[0].set_xlabel('Days', labelpad=5)\n",
    "axs[1].set_xlabel('Days', labelpad=5)\n",
    "axs[0].set_ylabel('Freq', labelpad=15)\n",
    "axs[1].set_ylabel('Freq', labelpad=15)\n",
    "plt.show()"
   ],
   "execution_count":24,
   "outputs":[
    {
     "data":{
      "image\/png":"[encoded data removed]"
     },
     "metadata":{
      "image\/png":{
       
      }
     },
     "output_type":"display_data"
    }
   ],
   "metadata":{
    "datalore":{
     "node_id":"nNKH8E0BzZsDMRouKHZGpN",
     "type":"CODE",
     "hide_input_from_viewers":true,
     "hide_output_from_viewers":true
    }
   }
  },
  {
   "cell_type":"markdown",
   "source":[
    "## Review cleaned dataset."
   ],
   "attachments":{
    
   },
   "metadata":{
    "datalore":{
     "node_id":"lXFUTl58AgFOKfPrJ8kep8",
     "type":"MD",
     "hide_input_from_viewers":true,
     "hide_output_from_viewers":true
    }
   }
  },
  {
   "cell_type":"code",
   "source":[
    "cleaned_df.shape"
   ],
   "execution_count":25,
   "outputs":[
    {
     "data":{
      "text\/plain":[
       "(139349, 32)"
      ]
     },
     "metadata":{
      
     },
     "output_type":"display_data"
    }
   ],
   "metadata":{
    "datalore":{
     "node_id":"vp8mCUeO98nAVgyZHlNkA6",
     "type":"CODE",
     "hide_input_from_viewers":true,
     "hide_output_from_viewers":true
    }
   }
  },
  {
   "cell_type":"code",
   "source":[
    "cleaned_df.info()"
   ],
   "execution_count":26,
   "outputs":[
    {
     "name":"stdout",
     "text":[
      "<class 'pandas.core.frame.DataFrame'>\n",
      "Int64Index: 139349 entries, 0 to 143272\n",
      "Data columns (total 32 columns):\n",
      " #   Column                            Non-Null Count   Dtype         \n",
      "---  ------                            --------------   -----         \n",
      " 0   Reservation Created Date          139349 non-null  datetime64[ns]\n",
      " 1   Pickup Date                       139349 non-null  datetime64[ns]\n",
      " 2   Dropoff Date                      139349 non-null  datetime64[ns]\n",
      " 3   Current State                     139349 non-null  string        \n",
      " 4   Rebook Status                     139349 non-null  string        \n",
      " 5   Store Code                        139349 non-null  string        \n",
      " 6   Fleet Type                        139349 non-null  string        \n",
      " 7   Local Rental                      139349 non-null  string        \n",
      " 8   Reservation ID                    139349 non-null  string        \n",
      " 9   User Created Date                 139349 non-null  datetime64[ns]\n",
      " 10  City                              139349 non-null  string        \n",
      " 11  State                             139349 non-null  string        \n",
      " 12  Zip                               139349 non-null  string        \n",
      " 13  lifetime_completed_reservations   139332 non-null  float64       \n",
      " 14  avg_daily_rate                    139349 non-null  float64       \n",
      " 15  Booking Length                    139349 non-null  string        \n",
      " 16  Cancelled At Time                 66708 non-null   datetime64[ns]\n",
      " 17  Reservation Created Time          139349 non-null  datetime64[ns]\n",
      " 18  Last Completed Reservation Date   107961 non-null  datetime64[ns]\n",
      " 19  First Completed Reservation Date  107961 non-null  datetime64[ns]\n",
      " 20  lifetime_driving_days             139349 non-null  float64       \n",
      " 21  userID                            139349 non-null  string        \n",
      " 22  sales_rev                         139349 non-null  float64       \n",
      " 23  booked_with_code                  139349 non-null  float64       \n",
      " 24  Created Period                    139349 non-null  object        \n",
      " 25  Created Month                     139349 non-null  int64         \n",
      " 26  Created Year                      139349 non-null  object        \n",
      " 27  Pickup Month                      139349 non-null  int64         \n",
      " 28  Dropoff Month                     139349 non-null  int64         \n",
      " 29  reservation_length                139349 non-null  int64         \n",
      " 30  booked_window                     139349 non-null  int64         \n",
      " 31  time_as_customer                  139349 non-null  int64         \n",
      "dtypes: datetime64[ns](8), float64(5), int64(6), object(2), string(11)\n",
      "memory usage: 35.1+ MB\n"
     ],
     "output_type":"stream"
    }
   ],
   "metadata":{
    "datalore":{
     "node_id":"qva0OfH4HdIvRL9STsY8uq",
     "type":"CODE",
     "hide_input_from_viewers":true,
     "hide_output_from_viewers":true
    }
   }
  },
  {
   "cell_type":"markdown",
   "source":[
    "## 2. Data Analysis and Visualization"
   ],
   "attachments":{
    
   },
   "metadata":{
    "datalore":{
     "node_id":"kpwHs1ToHhkJ98lb16Qpbt",
     "type":"MD",
     "hide_input_from_viewers":true,
     "hide_output_from_viewers":true
    }
   }
  }
 ],
 "metadata":{
  "kernelspec":{
   "display_name":"Python",
   "language":"python",
   "name":"python"
  },
  "datalore":{
   "computation_mode":"JUPYTER",
   "package_manager":"pip",
   "base_environment":"default",
   "packages":[
    {
     "name":"uszipcode",
     "version":"1.0.1",
     "source":"PIP"
    }
   ],
   "report_row_ids":[
    "4aXRpdWdBYL971nXk78ewq",
    "zgCmJZ8lAac0KmxxvEUqbV",
    "yrIT66ZR4gOzbbKybwWeMp",
    "xs86SXy05vN6dpNGu4tXQL",
    "xP1PkHkjZzHKymy5vTkzpa",
    "puaC0Qvn36ayi3ClXiTXya",
    "Wf0XimcWaWAQaI1HSN7VEe",
    "g9B8Er4B257a25KdQskJXs",
    "6AhfGytAlhRir2z8n360WZ",
    "3Ccv0NJDTodOCvELzyPYdy",
    "pJyWvSK09oPv7tKH58hS1a",
    "Bfz5AdSxtfssZvtFmgJH7V",
    "rrlp27vAFF07MTb3Rks0ud",
    "nBKYZ7MXx18Lcxv5X3uZdE",
    "U0w8lM01TjOol4uC2hiuDr",
    "VnyDdNe6RYSAkK99rOT78O",
    "n4dCNBPmHmM8IWMFL4NidW",
    "emDSMGcmkUCdmzXKuiblOd",
    "MA2kBF7XRNoPZUrw533p6A",
    "eM0JO5WocxvEYPCJRplE1K",
    "RcZO7IXQiy89jD1Hb1emLH",
    "qdS4FZSxM6R8eXfMzecbQs",
    "S8Lkd6gprnHu3tccH3GZ3q",
    "0VUB5Guj6q1X2emkZ2DSdQ",
    "YdxazNqpEDf7JIhakV3Ura",
    "yxzXuNuxnczUhZrRNemlyI",
    "UXf0uibRJKepqOnktNWgDY",
    "uIK8sJLWqC4HnVoRGB9AMi",
    "obEmm1bsE9Bk0q6PorhkaE"
   ],
   "version":3
  }
 },
 "nbformat":4,
 "nbformat_minor":4
}